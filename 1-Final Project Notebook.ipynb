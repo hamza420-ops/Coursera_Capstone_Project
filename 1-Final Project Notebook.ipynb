{
    "cells": [
        {
            "cell_type": "markdown",
            "metadata": {
                "button": false,
                "new_sheet": false,
                "run_control": {
                    "read_only": false
                }
            },
            "source": [
                "\n",
                "<h1 align=\"center\"><font size=\"5\">Classification with Python</font></h1>"
            ]
        },
        {
            "cell_type": "markdown",
            "metadata": {
                "button": false,
                "new_sheet": false,
                "run_control": {
                    "read_only": false
                }
            },
            "source": [
                "In this notebook we try to practice all the classification algorithms that we learned in this course.\n",
                "\n",
                "We load a dataset using Pandas library, and apply the following algorithms, and find the best one for this specific dataset by accuracy evaluation methods.\n",
                "\n",
                "Lets first load required libraries:"
            ]
        },
        {
            "cell_type": "code",
            "execution_count": 1,
            "metadata": {
                "button": false,
                "new_sheet": false,
                "run_control": {
                    "read_only": false
                }
            },
            "outputs": [],
            "source": [
                "import itertools\n",
                "import numpy as np\n",
                "import matplotlib.pyplot as plt\n",
                "from matplotlib.ticker import NullFormatter\n",
                "import pandas as pd\n",
                "import numpy as np\n",
                "import matplotlib.ticker as ticker\n",
                "from sklearn import preprocessing\n",
                "%matplotlib inline"
            ]
        },
        {
            "cell_type": "markdown",
            "metadata": {
                "button": false,
                "new_sheet": false,
                "run_control": {
                    "read_only": false
                }
            },
            "source": [
                "### About dataset"
            ]
        },
        {
            "cell_type": "markdown",
            "metadata": {
                "button": false,
                "new_sheet": false,
                "run_control": {
                    "read_only": false
                }
            },
            "source": [
                "This dataset is about past loans. The __Loan_train.csv__ data set includes details of 346 customers whose loan are already paid off or defaulted. It includes following fields:\n",
                "\n",
                "| Field          | Description                                                                           |\n",
                "|----------------|---------------------------------------------------------------------------------------|\n",
                "| Loan_status    | Whether a loan is paid off on in collection                                           |\n",
                "| Principal      | Basic principal loan amount at the                                                    |\n",
                "| Terms          | Origination terms which can be weekly (7 days), biweekly, and monthly payoff schedule |\n",
                "| Effective_date | When the loan got originated and took effects                                         |\n",
                "| Due_date       | Since it’s one-time payoff schedule, each loan has one single due date                |\n",
                "| Age            | Age of applicant                                                                      |\n",
                "| Education      | Education of applicant                                                                |\n",
                "| Gender         | The gender of applicant                                                               |"
            ]
        },
        {
            "cell_type": "markdown",
            "metadata": {
                "button": false,
                "new_sheet": false,
                "run_control": {
                    "read_only": false
                }
            },
            "source": [
                "Lets download the dataset"
            ]
        },
        {
            "cell_type": "markdown",
            "metadata": {
                "button": false,
                "new_sheet": false,
                "run_control": {
                    "read_only": false
                }
            },
            "source": [
                "### Load Data From CSV File  "
            ]
        },
        {
            "cell_type": "code",
            "execution_count": 3,
            "metadata": {
                "button": false,
                "new_sheet": false,
                "run_control": {
                    "read_only": false
                }
            },
            "outputs": [
                {
                    "data": {
                        "text/html": [
                            "<div>\n",
                            "<style scoped>\n",
                            "    .dataframe tbody tr th:only-of-type {\n",
                            "        vertical-align: middle;\n",
                            "    }\n",
                            "\n",
                            "    .dataframe tbody tr th {\n",
                            "        vertical-align: top;\n",
                            "    }\n",
                            "\n",
                            "    .dataframe thead th {\n",
                            "        text-align: right;\n",
                            "    }\n",
                            "</style>\n",
                            "<table border=\"1\" class=\"dataframe\">\n",
                            "  <thead>\n",
                            "    <tr style=\"text-align: right;\">\n",
                            "      <th></th>\n",
                            "      <th>Unnamed: 0</th>\n",
                            "      <th>Unnamed: 0.1</th>\n",
                            "      <th>loan_status</th>\n",
                            "      <th>Principal</th>\n",
                            "      <th>terms</th>\n",
                            "      <th>effective_date</th>\n",
                            "      <th>due_date</th>\n",
                            "      <th>age</th>\n",
                            "      <th>education</th>\n",
                            "      <th>Gender</th>\n",
                            "    </tr>\n",
                            "  </thead>\n",
                            "  <tbody>\n",
                            "    <tr>\n",
                            "      <th>0</th>\n",
                            "      <td>0</td>\n",
                            "      <td>0</td>\n",
                            "      <td>PAIDOFF</td>\n",
                            "      <td>1000</td>\n",
                            "      <td>30</td>\n",
                            "      <td>9/8/2016</td>\n",
                            "      <td>10/7/2016</td>\n",
                            "      <td>45</td>\n",
                            "      <td>High School or Below</td>\n",
                            "      <td>male</td>\n",
                            "    </tr>\n",
                            "    <tr>\n",
                            "      <th>1</th>\n",
                            "      <td>2</td>\n",
                            "      <td>2</td>\n",
                            "      <td>PAIDOFF</td>\n",
                            "      <td>1000</td>\n",
                            "      <td>30</td>\n",
                            "      <td>9/8/2016</td>\n",
                            "      <td>10/7/2016</td>\n",
                            "      <td>33</td>\n",
                            "      <td>Bechalor</td>\n",
                            "      <td>female</td>\n",
                            "    </tr>\n",
                            "    <tr>\n",
                            "      <th>2</th>\n",
                            "      <td>3</td>\n",
                            "      <td>3</td>\n",
                            "      <td>PAIDOFF</td>\n",
                            "      <td>1000</td>\n",
                            "      <td>15</td>\n",
                            "      <td>9/8/2016</td>\n",
                            "      <td>9/22/2016</td>\n",
                            "      <td>27</td>\n",
                            "      <td>college</td>\n",
                            "      <td>male</td>\n",
                            "    </tr>\n",
                            "    <tr>\n",
                            "      <th>3</th>\n",
                            "      <td>4</td>\n",
                            "      <td>4</td>\n",
                            "      <td>PAIDOFF</td>\n",
                            "      <td>1000</td>\n",
                            "      <td>30</td>\n",
                            "      <td>9/9/2016</td>\n",
                            "      <td>10/8/2016</td>\n",
                            "      <td>28</td>\n",
                            "      <td>college</td>\n",
                            "      <td>female</td>\n",
                            "    </tr>\n",
                            "    <tr>\n",
                            "      <th>4</th>\n",
                            "      <td>6</td>\n",
                            "      <td>6</td>\n",
                            "      <td>PAIDOFF</td>\n",
                            "      <td>1000</td>\n",
                            "      <td>30</td>\n",
                            "      <td>9/9/2016</td>\n",
                            "      <td>10/8/2016</td>\n",
                            "      <td>29</td>\n",
                            "      <td>college</td>\n",
                            "      <td>male</td>\n",
                            "    </tr>\n",
                            "  </tbody>\n",
                            "</table>\n",
                            "</div>"
                        ],
                        "text/plain": [
                            "   Unnamed: 0  Unnamed: 0.1 loan_status  Principal  terms effective_date  \\\n",
                            "0           0             0     PAIDOFF       1000     30       9/8/2016   \n",
                            "1           2             2     PAIDOFF       1000     30       9/8/2016   \n",
                            "2           3             3     PAIDOFF       1000     15       9/8/2016   \n",
                            "3           4             4     PAIDOFF       1000     30       9/9/2016   \n",
                            "4           6             6     PAIDOFF       1000     30       9/9/2016   \n",
                            "\n",
                            "    due_date  age             education  Gender  \n",
                            "0  10/7/2016   45  High School or Below    male  \n",
                            "1  10/7/2016   33              Bechalor  female  \n",
                            "2  9/22/2016   27               college    male  \n",
                            "3  10/8/2016   28               college  female  \n",
                            "4  10/8/2016   29               college    male  "
                        ]
                    },
                    "execution_count": 3,
                    "metadata": {},
                    "output_type": "execute_result"
                }
            ],
            "source": [
                "df = pd.read_csv('loan_train.csv')\n",
                "df.head()"
            ]
        },
        {
            "cell_type": "code",
            "execution_count": 4,
            "metadata": {},
            "outputs": [
                {
                    "data": {
                        "text/plain": [
                            "(346, 10)"
                        ]
                    },
                    "execution_count": 4,
                    "metadata": {},
                    "output_type": "execute_result"
                }
            ],
            "source": [
                "df.shape"
            ]
        },
        {
            "cell_type": "markdown",
            "metadata": {
                "button": false,
                "new_sheet": false,
                "run_control": {
                    "read_only": false
                }
            },
            "source": [
                "### Convert to date time object "
            ]
        },
        {
            "cell_type": "code",
            "execution_count": 5,
            "metadata": {
                "button": false,
                "new_sheet": false,
                "run_control": {
                    "read_only": false
                }
            },
            "outputs": [
                {
                    "data": {
                        "text/html": [
                            "<div>\n",
                            "<style scoped>\n",
                            "    .dataframe tbody tr th:only-of-type {\n",
                            "        vertical-align: middle;\n",
                            "    }\n",
                            "\n",
                            "    .dataframe tbody tr th {\n",
                            "        vertical-align: top;\n",
                            "    }\n",
                            "\n",
                            "    .dataframe thead th {\n",
                            "        text-align: right;\n",
                            "    }\n",
                            "</style>\n",
                            "<table border=\"1\" class=\"dataframe\">\n",
                            "  <thead>\n",
                            "    <tr style=\"text-align: right;\">\n",
                            "      <th></th>\n",
                            "      <th>Unnamed: 0</th>\n",
                            "      <th>Unnamed: 0.1</th>\n",
                            "      <th>loan_status</th>\n",
                            "      <th>Principal</th>\n",
                            "      <th>terms</th>\n",
                            "      <th>effective_date</th>\n",
                            "      <th>due_date</th>\n",
                            "      <th>age</th>\n",
                            "      <th>education</th>\n",
                            "      <th>Gender</th>\n",
                            "    </tr>\n",
                            "  </thead>\n",
                            "  <tbody>\n",
                            "    <tr>\n",
                            "      <th>0</th>\n",
                            "      <td>0</td>\n",
                            "      <td>0</td>\n",
                            "      <td>PAIDOFF</td>\n",
                            "      <td>1000</td>\n",
                            "      <td>30</td>\n",
                            "      <td>2016-09-08</td>\n",
                            "      <td>2016-10-07</td>\n",
                            "      <td>45</td>\n",
                            "      <td>High School or Below</td>\n",
                            "      <td>male</td>\n",
                            "    </tr>\n",
                            "    <tr>\n",
                            "      <th>1</th>\n",
                            "      <td>2</td>\n",
                            "      <td>2</td>\n",
                            "      <td>PAIDOFF</td>\n",
                            "      <td>1000</td>\n",
                            "      <td>30</td>\n",
                            "      <td>2016-09-08</td>\n",
                            "      <td>2016-10-07</td>\n",
                            "      <td>33</td>\n",
                            "      <td>Bechalor</td>\n",
                            "      <td>female</td>\n",
                            "    </tr>\n",
                            "    <tr>\n",
                            "      <th>2</th>\n",
                            "      <td>3</td>\n",
                            "      <td>3</td>\n",
                            "      <td>PAIDOFF</td>\n",
                            "      <td>1000</td>\n",
                            "      <td>15</td>\n",
                            "      <td>2016-09-08</td>\n",
                            "      <td>2016-09-22</td>\n",
                            "      <td>27</td>\n",
                            "      <td>college</td>\n",
                            "      <td>male</td>\n",
                            "    </tr>\n",
                            "    <tr>\n",
                            "      <th>3</th>\n",
                            "      <td>4</td>\n",
                            "      <td>4</td>\n",
                            "      <td>PAIDOFF</td>\n",
                            "      <td>1000</td>\n",
                            "      <td>30</td>\n",
                            "      <td>2016-09-09</td>\n",
                            "      <td>2016-10-08</td>\n",
                            "      <td>28</td>\n",
                            "      <td>college</td>\n",
                            "      <td>female</td>\n",
                            "    </tr>\n",
                            "    <tr>\n",
                            "      <th>4</th>\n",
                            "      <td>6</td>\n",
                            "      <td>6</td>\n",
                            "      <td>PAIDOFF</td>\n",
                            "      <td>1000</td>\n",
                            "      <td>30</td>\n",
                            "      <td>2016-09-09</td>\n",
                            "      <td>2016-10-08</td>\n",
                            "      <td>29</td>\n",
                            "      <td>college</td>\n",
                            "      <td>male</td>\n",
                            "    </tr>\n",
                            "  </tbody>\n",
                            "</table>\n",
                            "</div>"
                        ],
                        "text/plain": [
                            "   Unnamed: 0  Unnamed: 0.1 loan_status  Principal  terms effective_date  \\\n",
                            "0           0             0     PAIDOFF       1000     30     2016-09-08   \n",
                            "1           2             2     PAIDOFF       1000     30     2016-09-08   \n",
                            "2           3             3     PAIDOFF       1000     15     2016-09-08   \n",
                            "3           4             4     PAIDOFF       1000     30     2016-09-09   \n",
                            "4           6             6     PAIDOFF       1000     30     2016-09-09   \n",
                            "\n",
                            "    due_date  age             education  Gender  \n",
                            "0 2016-10-07   45  High School or Below    male  \n",
                            "1 2016-10-07   33              Bechalor  female  \n",
                            "2 2016-09-22   27               college    male  \n",
                            "3 2016-10-08   28               college  female  \n",
                            "4 2016-10-08   29               college    male  "
                        ]
                    },
                    "execution_count": 5,
                    "metadata": {},
                    "output_type": "execute_result"
                }
            ],
            "source": [
                "df['due_date'] = pd.to_datetime(df['due_date'])\n",
                "df['effective_date'] = pd.to_datetime(df['effective_date'])\n",
                "df.head()"
            ]
        },
        {
            "cell_type": "markdown",
            "metadata": {
                "button": false,
                "new_sheet": false,
                "run_control": {
                    "read_only": false
                }
            },
            "source": [
                "# Data visualization and pre-processing\n",
                "\n"
            ]
        },
        {
            "cell_type": "markdown",
            "metadata": {
                "button": false,
                "new_sheet": false,
                "run_control": {
                    "read_only": false
                }
            },
            "source": [
                "Let’s see how many of each class is in our data set "
            ]
        },
        {
            "cell_type": "code",
            "execution_count": 6,
            "metadata": {
                "button": false,
                "new_sheet": false,
                "run_control": {
                    "read_only": false
                }
            },
            "outputs": [
                {
                    "data": {
                        "text/plain": [
                            "PAIDOFF       260\n",
                            "COLLECTION     86\n",
                            "Name: loan_status, dtype: int64"
                        ]
                    },
                    "execution_count": 6,
                    "metadata": {},
                    "output_type": "execute_result"
                }
            ],
            "source": [
                "df['loan_status'].value_counts()"
            ]
        },
        {
            "cell_type": "markdown",
            "metadata": {
                "button": false,
                "new_sheet": false,
                "run_control": {
                    "read_only": false
                }
            },
            "source": [
                "260 people have paid off the loan on time while 86 have gone into collection \n"
            ]
        },
        {
            "cell_type": "markdown",
            "metadata": {},
            "source": [
                "Lets plot some columns to underestand data better:"
            ]
        },
        {
            "cell_type": "code",
            "execution_count": 8,
            "metadata": {},
            "outputs": [
                {
                    "data": {
                        "image/png": "[encoded data removed]",
                        "text/plain": [
                            "<matplotlib.figure.Figure at 0x7f90d85c0278>"
                        ]
                    },
                    "metadata": {},
                    "output_type": "display_data"
                }
            ],
            "source": [
                "import seaborn as sns\n",
                "\n",
                "bins = np.linspace(df.Principal.min(), df.Principal.max(), 10)\n",
                "g = sns.FacetGrid(df, col=\"Gender\", hue=\"loan_status\", palette=\"Set1\", col_wrap=2)\n",
                "g.map(plt.hist, 'Principal', bins=bins, ec=\"k\")\n",
                "\n",
                "g.axes[-1].legend()\n",
                "plt.show()"
            ]
        },
        {
            "cell_type": "code",
            "execution_count": 9,
            "metadata": {
                "button": false,
                "new_sheet": false,
                "run_control": {
                    "read_only": false
                }
            },
            "outputs": [
                {
                    "data": {
                        "image/png": "[encoded data removed]",
                        "text/plain": [
                            "<matplotlib.figure.Figure at 0x7f90cfe305f8>"
                        ]
                    },
                    "metadata": {},
                    "output_type": "display_data"
                }
            ],
            "source": [
                "bins = np.linspace(df.age.min(), df.age.max(), 10)\n",
                "g = sns.FacetGrid(df, col=\"Gender\", hue=\"loan_status\", palette=\"Set1\", col_wrap=2)\n",
                "g.map(plt.hist, 'age', bins=bins, ec=\"k\")\n",
                "\n",
                "g.axes[-1].legend()\n",
                "plt.show()"
            ]
        },
        {
            "cell_type": "markdown",
            "metadata": {
                "button": false,
                "new_sheet": false,
                "run_control": {
                    "read_only": false
                }
            },
            "source": [
                "# Pre-processing:  Feature selection/extraction"
            ]
        },
        {
            "cell_type": "markdown",
            "metadata": {
                "button": false,
                "new_sheet": false,
                "run_control": {
                    "read_only": false
                }
            },
            "source": [
                "### Lets look at the day of the week people get the loan "
            ]
        },
        {
            "cell_type": "code",
            "execution_count": 10,
            "metadata": {
                "button": false,
                "new_sheet": false,
                "run_control": {
                    "read_only": false
                }
            },
            "outputs": [
                {
                    "data": {
                        "image/png": "[encoded data removed]",
                        "text/plain": [
                            "<matplotlib.figure.Figure at 0x7f90cfd44f98>"
                        ]
                    },
                    "metadata": {},
                    "output_type": "display_data"
                }
            ],
            "source": [
                "df['dayofweek'] = df['effective_date'].dt.dayofweek\n",
                "bins = np.linspace(df.dayofweek.min(), df.dayofweek.max(), 10)\n",
                "g = sns.FacetGrid(df, col=\"Gender\", hue=\"loan_status\", palette=\"Set1\", col_wrap=2)\n",
                "g.map(plt.hist, 'dayofweek', bins=bins, ec=\"k\")\n",
                "g.axes[-1].legend()\n",
                "plt.show()\n"
            ]
        },
        {
            "cell_type": "markdown",
            "metadata": {
                "button": false,
                "new_sheet": false,
                "run_control": {
                    "read_only": false
                }
            },
            "source": [
                "We see that people who get the loan at the end of the week dont pay it off, so lets use Feature binarization to set a threshold values less then day 4 "
            ]
        },
        {
            "cell_type": "code",
            "execution_count": 11,
            "metadata": {
                "button": false,
                "new_sheet": false,
                "run_control": {
                    "read_only": false
                }
            },
            "outputs": [
                {
                    "data": {
                        "text/html": [
                            "<div>\n",
                            "<style scoped>\n",
                            "    .dataframe tbody tr th:only-of-type {\n",
                            "        vertical-align: middle;\n",
                            "    }\n",
                            "\n",
                            "    .dataframe tbody tr th {\n",
                            "        vertical-align: top;\n",
                            "    }\n",
                            "\n",
                            "    .dataframe thead th {\n",
                            "        text-align: right;\n",
                            "    }\n",
                            "</style>\n",
                            "<table border=\"1\" class=\"dataframe\">\n",
                            "  <thead>\n",
                            "    <tr style=\"text-align: right;\">\n",
                            "      <th></th>\n",
                            "      <th>Unnamed: 0</th>\n",
                            "      <th>Unnamed: 0.1</th>\n",
                            "      <th>loan_status</th>\n",
                            "      <th>Principal</th>\n",
                            "      <th>terms</th>\n",
                            "      <th>effective_date</th>\n",
                            "      <th>due_date</th>\n",
                            "      <th>age</th>\n",
                            "      <th>education</th>\n",
                            "      <th>Gender</th>\n",
                            "      <th>dayofweek</th>\n",
                            "      <th>weekend</th>\n",
                            "    </tr>\n",
                            "  </thead>\n",
                            "  <tbody>\n",
                            "    <tr>\n",
                            "      <th>0</th>\n",
                            "      <td>0</td>\n",
                            "      <td>0</td>\n",
                            "      <td>PAIDOFF</td>\n",
                            "      <td>1000</td>\n",
                            "      <td>30</td>\n",
                            "      <td>2016-09-08</td>\n",
                            "      <td>2016-10-07</td>\n",
                            "      <td>45</td>\n",
                            "      <td>High School or Below</td>\n",
                            "      <td>male</td>\n",
                            "      <td>3</td>\n",
                            "      <td>0</td>\n",
                            "    </tr>\n",
                            "    <tr>\n",
                            "      <th>1</th>\n",
                            "      <td>2</td>\n",
                            "      <td>2</td>\n",
                            "      <td>PAIDOFF</td>\n",
                            "      <td>1000</td>\n",
                            "      <td>30</td>\n",
                            "      <td>2016-09-08</td>\n",
                            "      <td>2016-10-07</td>\n",
                            "      <td>33</td>\n",
                            "      <td>Bechalor</td>\n",
                            "      <td>female</td>\n",
                            "      <td>3</td>\n",
                            "      <td>0</td>\n",
                            "    </tr>\n",
                            "    <tr>\n",
                            "      <th>2</th>\n",
                            "      <td>3</td>\n",
                            "      <td>3</td>\n",
                            "      <td>PAIDOFF</td>\n",
                            "      <td>1000</td>\n",
                            "      <td>15</td>\n",
                            "      <td>2016-09-08</td>\n",
                            "      <td>2016-09-22</td>\n",
                            "      <td>27</td>\n",
                            "      <td>college</td>\n",
                            "      <td>male</td>\n",
                            "      <td>3</td>\n",
                            "      <td>0</td>\n",
                            "    </tr>\n",
                            "    <tr>\n",
                            "      <th>3</th>\n",
                            "      <td>4</td>\n",
                            "      <td>4</td>\n",
                            "      <td>PAIDOFF</td>\n",
                            "      <td>1000</td>\n",
                            "      <td>30</td>\n",
                            "      <td>2016-09-09</td>\n",
                            "      <td>2016-10-08</td>\n",
                            "      <td>28</td>\n",
                            "      <td>college</td>\n",
                            "      <td>female</td>\n",
                            "      <td>4</td>\n",
                            "      <td>1</td>\n",
                            "    </tr>\n",
                            "    <tr>\n",
                            "      <th>4</th>\n",
                            "      <td>6</td>\n",
                            "      <td>6</td>\n",
                            "      <td>PAIDOFF</td>\n",
                            "      <td>1000</td>\n",
                            "      <td>30</td>\n",
                            "      <td>2016-09-09</td>\n",
                            "      <td>2016-10-08</td>\n",
                            "      <td>29</td>\n",
                            "      <td>college</td>\n",
                            "      <td>male</td>\n",
                            "      <td>4</td>\n",
                            "      <td>1</td>\n",
                            "    </tr>\n",
                            "  </tbody>\n",
                            "</table>\n",
                            "</div>"
                        ],
                        "text/plain": [
                            "   Unnamed: 0  Unnamed: 0.1 loan_status  Principal  terms effective_date  \\\n",
                            "0           0             0     PAIDOFF       1000     30     2016-09-08   \n",
                            "1           2             2     PAIDOFF       1000     30     2016-09-08   \n",
                            "2           3             3     PAIDOFF       1000     15     2016-09-08   \n",
                            "3           4             4     PAIDOFF       1000     30     2016-09-09   \n",
                            "4           6             6     PAIDOFF       1000     30     2016-09-09   \n",
                            "\n",
                            "    due_date  age             education  Gender  dayofweek  weekend  \n",
                            "0 2016-10-07   45  High School or Below    male          3        0  \n",
                            "1 2016-10-07   33              Bechalor  female          3        0  \n",
                            "2 2016-09-22   27               college    male          3        0  \n",
                            "3 2016-10-08   28               college  female          4        1  \n",
                            "4 2016-10-08   29               college    male          4        1  "
                        ]
                    },
                    "execution_count": 11,
                    "metadata": {},
                    "output_type": "execute_result"
                }
            ],
            "source": [
                "df['weekend'] = df['dayofweek'].apply(lambda x: 1 if (x>3)  else 0)\n",
                "df.head()"
            ]
        },
        {
            "cell_type": "markdown",
            "metadata": {
                "button": false,
                "new_sheet": false,
                "run_control": {
                    "read_only": false
                }
            },
            "source": [
                "## Converting Categorical features to numerical values"
            ]
        },
        {
            "cell_type": "markdown",
            "metadata": {
                "button": false,
                "new_sheet": false,
                "run_control": {
                    "read_only": false
                }
            },
            "source": [
                "Lets look at gender:"
            ]
        },
        {
            "cell_type": "code",
            "execution_count": 12,
            "metadata": {
                "button": false,
                "new_sheet": false,
                "run_control": {
                    "read_only": false
                }
            },
            "outputs": [
                {
                    "data": {
                        "text/plain": [
                            "Gender  loan_status\n",
                            "female  PAIDOFF        0.865385\n",
                            "        COLLECTION     0.134615\n",
                            "male    PAIDOFF        0.731293\n",
                            "        COLLECTION     0.268707\n",
                            "Name: loan_status, dtype: float64"
                        ]
                    },
                    "execution_count": 12,
                    "metadata": {},
                    "output_type": "execute_result"
                }
            ],
            "source": [
                "df.groupby(['Gender'])['loan_status'].value_counts(normalize=True)"
            ]
        },
        {
            "cell_type": "markdown",
            "metadata": {
                "button": false,
                "new_sheet": false,
                "run_control": {
                    "read_only": false
                }
            },
            "source": [
                "86 % of female pay there loans while only 73 % of males pay there loan\n"
            ]
        },
        {
            "cell_type": "markdown",
            "metadata": {
                "button": false,
                "new_sheet": false,
                "run_control": {
                    "read_only": false
                }
            },
            "source": [
                "Lets convert male to 0 and female to 1:\n"
            ]
        },
        {
            "cell_type": "code",
            "execution_count": 13,
            "metadata": {
                "button": false,
                "new_sheet": false,
                "run_control": {
                    "read_only": false
                }
            },
            "outputs": [
                {
                    "data": {
                        "text/html": [
                            "<div>\n",
                            "<style scoped>\n",
                            "    .dataframe tbody tr th:only-of-type {\n",
                            "        vertical-align: middle;\n",
                            "    }\n",
                            "\n",
                            "    .dataframe tbody tr th {\n",
                            "        vertical-align: top;\n",
                            "    }\n",
                            "\n",
                            "    .dataframe thead th {\n",
                            "        text-align: right;\n",
                            "    }\n",
                            "</style>\n",
                            "<table border=\"1\" class=\"dataframe\">\n",
                            "  <thead>\n",
                            "    <tr style=\"text-align: right;\">\n",
                            "      <th></th>\n",
                            "      <th>Unnamed: 0</th>\n",
                            "      <th>Unnamed: 0.1</th>\n",
                            "      <th>loan_status</th>\n",
                            "      <th>Principal</th>\n",
                            "      <th>terms</th>\n",
                            "      <th>effective_date</th>\n",
                            "      <th>due_date</th>\n",
                            "      <th>age</th>\n",
                            "      <th>education</th>\n",
                            "      <th>Gender</th>\n",
                            "      <th>dayofweek</th>\n",
                            "      <th>weekend</th>\n",
                            "    </tr>\n",
                            "  </thead>\n",
                            "  <tbody>\n",
                            "    <tr>\n",
                            "      <th>0</th>\n",
                            "      <td>0</td>\n",
                            "      <td>0</td>\n",
                            "      <td>PAIDOFF</td>\n",
                            "      <td>1000</td>\n",
                            "      <td>30</td>\n",
                            "      <td>2016-09-08</td>\n",
                            "      <td>2016-10-07</td>\n",
                            "      <td>45</td>\n",
                            "      <td>High School or Below</td>\n",
                            "      <td>0</td>\n",
                            "      <td>3</td>\n",
                            "      <td>0</td>\n",
                            "    </tr>\n",
                            "    <tr>\n",
                            "      <th>1</th>\n",
                            "      <td>2</td>\n",
                            "      <td>2</td>\n",
                            "      <td>PAIDOFF</td>\n",
                            "      <td>1000</td>\n",
                            "      <td>30</td>\n",
                            "      <td>2016-09-08</td>\n",
                            "      <td>2016-10-07</td>\n",
                            "      <td>33</td>\n",
                            "      <td>Bechalor</td>\n",
                            "      <td>1</td>\n",
                            "      <td>3</td>\n",
                            "      <td>0</td>\n",
                            "    </tr>\n",
                            "    <tr>\n",
                            "      <th>2</th>\n",
                            "      <td>3</td>\n",
                            "      <td>3</td>\n",
                            "      <td>PAIDOFF</td>\n",
                            "      <td>1000</td>\n",
                            "      <td>15</td>\n",
                            "      <td>2016-09-08</td>\n",
                            "      <td>2016-09-22</td>\n",
                            "      <td>27</td>\n",
                            "      <td>college</td>\n",
                            "      <td>0</td>\n",
                            "      <td>3</td>\n",
                            "      <td>0</td>\n",
                            "    </tr>\n",
                            "    <tr>\n",
                            "      <th>3</th>\n",
                            "      <td>4</td>\n",
                            "      <td>4</td>\n",
                            "      <td>PAIDOFF</td>\n",
                            "      <td>1000</td>\n",
                            "      <td>30</td>\n",
                            "      <td>2016-09-09</td>\n",
                            "      <td>2016-10-08</td>\n",
                            "      <td>28</td>\n",
                            "      <td>college</td>\n",
                            "      <td>1</td>\n",
                            "      <td>4</td>\n",
                            "      <td>1</td>\n",
                            "    </tr>\n",
                            "    <tr>\n",
                            "      <th>4</th>\n",
                            "      <td>6</td>\n",
                            "      <td>6</td>\n",
                            "      <td>PAIDOFF</td>\n",
                            "      <td>1000</td>\n",
                            "      <td>30</td>\n",
                            "      <td>2016-09-09</td>\n",
                            "      <td>2016-10-08</td>\n",
                            "      <td>29</td>\n",
                            "      <td>college</td>\n",
                            "      <td>0</td>\n",
                            "      <td>4</td>\n",
                            "      <td>1</td>\n",
                            "    </tr>\n",
                            "  </tbody>\n",
                            "</table>\n",
                            "</div>"
                        ],
                        "text/plain": [
                            "   Unnamed: 0  Unnamed: 0.1 loan_status  Principal  terms effective_date  \\\n",
                            "0           0             0     PAIDOFF       1000     30     2016-09-08   \n",
                            "1           2             2     PAIDOFF       1000     30     2016-09-08   \n",
                            "2           3             3     PAIDOFF       1000     15     2016-09-08   \n",
                            "3           4             4     PAIDOFF       1000     30     2016-09-09   \n",
                            "4           6             6     PAIDOFF       1000     30     2016-09-09   \n",
                            "\n",
                            "    due_date  age             education  Gender  dayofweek  weekend  \n",
                            "0 2016-10-07   45  High School or Below       0          3        0  \n",
                            "1 2016-10-07   33              Bechalor       1          3        0  \n",
                            "2 2016-09-22   27               college       0          3        0  \n",
                            "3 2016-10-08   28               college       1          4        1  \n",
                            "4 2016-10-08   29               college       0          4        1  "
                        ]
                    },
                    "execution_count": 13,
                    "metadata": {},
                    "output_type": "execute_result"
                }
            ],
            "source": [
                "df['Gender'].replace(to_replace=['male','female'], value=[0,1],inplace=True)\n",
                "df.head()"
            ]
        },
        {
            "cell_type": "markdown",
            "metadata": {
                "button": false,
                "new_sheet": false,
                "run_control": {
                    "read_only": false
                }
            },
            "source": [
                "## One Hot Encoding  \n",
                "#### How about education?"
            ]
        },
        {
            "cell_type": "code",
            "execution_count": 14,
            "metadata": {
                "button": false,
                "new_sheet": false,
                "run_control": {
                    "read_only": false
                }
            },
            "outputs": [
                {
                    "data": {
                        "text/plain": [
                            "education             loan_status\n",
                            "Bechalor              PAIDOFF        0.750000\n",
                            "                      COLLECTION     0.250000\n",
                            "High School or Below  PAIDOFF        0.741722\n",
                            "                      COLLECTION     0.258278\n",
                            "Master or Above       COLLECTION     0.500000\n",
                            "                      PAIDOFF        0.500000\n",
                            "college               PAIDOFF        0.765101\n",
                            "                      COLLECTION     0.234899\n",
                            "Name: loan_status, dtype: float64"
                        ]
                    },
                    "execution_count": 14,
                    "metadata": {},
                    "output_type": "execute_result"
                }
            ],
            "source": [
                "df.groupby(['education'])['loan_status'].value_counts(normalize=True)"
            ]
        },
        {
            "cell_type": "markdown",
            "metadata": {
                "button": false,
                "new_sheet": false,
                "run_control": {
                    "read_only": false
                }
            },
            "source": [
                "#### Feature befor One Hot Encoding"
            ]
        },
        {
            "cell_type": "code",
            "execution_count": 15,
            "metadata": {
                "button": false,
                "new_sheet": false,
                "run_control": {
                    "read_only": false
                }
            },
            "outputs": [
                {
                    "data": {
                        "text/html": [
                            "<div>\n",
                            "<style scoped>\n",
                            "    .dataframe tbody tr th:only-of-type {\n",
                            "        vertical-align: middle;\n",
                            "    }\n",
                            "\n",
                            "    .dataframe tbody tr th {\n",
                            "        vertical-align: top;\n",
                            "    }\n",
                            "\n",
                            "    .dataframe thead th {\n",
                            "        text-align: right;\n",
                            "    }\n",
                            "</style>\n",
                            "<table border=\"1\" class=\"dataframe\">\n",
                            "  <thead>\n",
                            "    <tr style=\"text-align: right;\">\n",
                            "      <th></th>\n",
                            "      <th>Principal</th>\n",
                            "      <th>terms</th>\n",
                            "      <th>age</th>\n",
                            "      <th>Gender</th>\n",
                            "      <th>education</th>\n",
                            "    </tr>\n",
                            "  </thead>\n",
                            "  <tbody>\n",
                            "    <tr>\n",
                            "      <th>0</th>\n",
                            "      <td>1000</td>\n",
                            "      <td>30</td>\n",
                            "      <td>45</td>\n",
                            "      <td>0</td>\n",
                            "      <td>High School or Below</td>\n",
                            "    </tr>\n",
                            "    <tr>\n",
                            "      <th>1</th>\n",
                            "      <td>1000</td>\n",
                            "      <td>30</td>\n",
                            "      <td>33</td>\n",
                            "      <td>1</td>\n",
                            "      <td>Bechalor</td>\n",
                            "    </tr>\n",
                            "    <tr>\n",
                            "      <th>2</th>\n",
                            "      <td>1000</td>\n",
                            "      <td>15</td>\n",
                            "      <td>27</td>\n",
                            "      <td>0</td>\n",
                            "      <td>college</td>\n",
                            "    </tr>\n",
                            "    <tr>\n",
                            "      <th>3</th>\n",
                            "      <td>1000</td>\n",
                            "      <td>30</td>\n",
                            "      <td>28</td>\n",
                            "      <td>1</td>\n",
                            "      <td>college</td>\n",
                            "    </tr>\n",
                            "    <tr>\n",
                            "      <th>4</th>\n",
                            "      <td>1000</td>\n",
                            "      <td>30</td>\n",
                            "      <td>29</td>\n",
                            "      <td>0</td>\n",
                            "      <td>college</td>\n",
                            "    </tr>\n",
                            "  </tbody>\n",
                            "</table>\n",
                            "</div>"
                        ],
                        "text/plain": [
                            "   Principal  terms  age  Gender             education\n",
                            "0       1000     30   45       0  High School or Below\n",
                            "1       1000     30   33       1              Bechalor\n",
                            "2       1000     15   27       0               college\n",
                            "3       1000     30   28       1               college\n",
                            "4       1000     30   29       0               college"
                        ]
                    },
                    "execution_count": 15,
                    "metadata": {},
                    "output_type": "execute_result"
                }
            ],
            "source": [
                "df[['Principal','terms','age','Gender','education']].head()"
            ]
        },
        {
            "cell_type": "markdown",
            "metadata": {
                "button": false,
                "new_sheet": false,
                "run_control": {
                    "read_only": false
                }
            },
            "source": [
                "#### Use one hot encoding technique to conver categorical varables to binary variables and append them to the feature Data Frame "
            ]
        },
        {
            "cell_type": "code",
            "execution_count": 16,
            "metadata": {
                "button": false,
                "new_sheet": false,
                "run_control": {
                    "read_only": false
                }
            },
            "outputs": [
                {
                    "data": {
                        "text/html": [
                            "<div>\n",
                            "<style scoped>\n",
                            "    .dataframe tbody tr th:only-of-type {\n",
                            "        vertical-align: middle;\n",
                            "    }\n",
                            "\n",
                            "    .dataframe tbody tr th {\n",
                            "        vertical-align: top;\n",
                            "    }\n",
                            "\n",
                            "    .dataframe thead th {\n",
                            "        text-align: right;\n",
                            "    }\n",
                            "</style>\n",
                            "<table border=\"1\" class=\"dataframe\">\n",
                            "  <thead>\n",
                            "    <tr style=\"text-align: right;\">\n",
                            "      <th></th>\n",
                            "      <th>Principal</th>\n",
                            "      <th>terms</th>\n",
                            "      <th>age</th>\n",
                            "      <th>Gender</th>\n",
                            "      <th>weekend</th>\n",
                            "      <th>Bechalor</th>\n",
                            "      <th>High School or Below</th>\n",
                            "      <th>college</th>\n",
                            "    </tr>\n",
                            "  </thead>\n",
                            "  <tbody>\n",
                            "    <tr>\n",
                            "      <th>0</th>\n",
                            "      <td>1000</td>\n",
                            "      <td>30</td>\n",
                            "      <td>45</td>\n",
                            "      <td>0</td>\n",
                            "      <td>0</td>\n",
                            "      <td>0</td>\n",
                            "      <td>1</td>\n",
                            "      <td>0</td>\n",
                            "    </tr>\n",
                            "    <tr>\n",
                            "      <th>1</th>\n",
                            "      <td>1000</td>\n",
                            "      <td>30</td>\n",
                            "      <td>33</td>\n",
                            "      <td>1</td>\n",
                            "      <td>0</td>\n",
                            "      <td>1</td>\n",
                            "      <td>0</td>\n",
                            "      <td>0</td>\n",
                            "    </tr>\n",
                            "    <tr>\n",
                            "      <th>2</th>\n",
                            "      <td>1000</td>\n",
                            "      <td>15</td>\n",
                            "      <td>27</td>\n",
                            "      <td>0</td>\n",
                            "      <td>0</td>\n",
                            "      <td>0</td>\n",
                            "      <td>0</td>\n",
                            "      <td>1</td>\n",
                            "    </tr>\n",
                            "    <tr>\n",
                            "      <th>3</th>\n",
                            "      <td>1000</td>\n",
                            "      <td>30</td>\n",
                            "      <td>28</td>\n",
                            "      <td>1</td>\n",
                            "      <td>1</td>\n",
                            "      <td>0</td>\n",
                            "      <td>0</td>\n",
                            "      <td>1</td>\n",
                            "    </tr>\n",
                            "    <tr>\n",
                            "      <th>4</th>\n",
                            "      <td>1000</td>\n",
                            "      <td>30</td>\n",
                            "      <td>29</td>\n",
                            "      <td>0</td>\n",
                            "      <td>1</td>\n",
                            "      <td>0</td>\n",
                            "      <td>0</td>\n",
                            "      <td>1</td>\n",
                            "    </tr>\n",
                            "  </tbody>\n",
                            "</table>\n",
                            "</div>"
                        ],
                        "text/plain": [
                            "   Principal  terms  age  Gender  weekend  Bechalor  High School or Below  \\\n",
                            "0       1000     30   45       0        0         0                     1   \n",
                            "1       1000     30   33       1        0         1                     0   \n",
                            "2       1000     15   27       0        0         0                     0   \n",
                            "3       1000     30   28       1        1         0                     0   \n",
                            "4       1000     30   29       0        1         0                     0   \n",
                            "\n",
                            "   college  \n",
                            "0        0  \n",
                            "1        0  \n",
                            "2        1  \n",
                            "3        1  \n",
                            "4        1  "
                        ]
                    },
                    "execution_count": 16,
                    "metadata": {},
                    "output_type": "execute_result"
                }
            ],
            "source": [
                "Feature = df[['Principal','terms','age','Gender','weekend']]\n",
                "Feature = pd.concat([Feature,pd.get_dummies(df['education'])], axis=1)\n",
                "Feature.drop(['Master or Above'], axis = 1,inplace=True)\n",
                "Feature.head()\n"
            ]
        },
        {
            "cell_type": "markdown",
            "metadata": {
                "button": false,
                "new_sheet": false,
                "run_control": {
                    "read_only": false
                }
            },
            "source": [
                "### Feature selection"
            ]
        },
        {
            "cell_type": "markdown",
            "metadata": {
                "button": false,
                "new_sheet": false,
                "run_control": {
                    "read_only": false
                }
            },
            "source": [
                "Lets defind feature sets, X:"
            ]
        },
        {
            "cell_type": "code",
            "execution_count": 17,
            "metadata": {
                "button": false,
                "new_sheet": false,
                "run_control": {
                    "read_only": false
                }
            },
            "outputs": [
                {
                    "data": {
                        "text/html": [
                            "<div>\n",
                            "<style scoped>\n",
                            "    .dataframe tbody tr th:only-of-type {\n",
                            "        vertical-align: middle;\n",
                            "    }\n",
                            "\n",
                            "    .dataframe tbody tr th {\n",
                            "        vertical-align: top;\n",
                            "    }\n",
                            "\n",
                            "    .dataframe thead th {\n",
                            "        text-align: right;\n",
                            "    }\n",
                            "</style>\n",
                            "<table border=\"1\" class=\"dataframe\">\n",
                            "  <thead>\n",
                            "    <tr style=\"text-align: right;\">\n",
                            "      <th></th>\n",
                            "      <th>Principal</th>\n",
                            "      <th>terms</th>\n",
                            "      <th>age</th>\n",
                            "      <th>Gender</th>\n",
                            "      <th>weekend</th>\n",
                            "      <th>Bechalor</th>\n",
                            "      <th>High School or Below</th>\n",
                            "      <th>college</th>\n",
                            "    </tr>\n",
                            "  </thead>\n",
                            "  <tbody>\n",
                            "    <tr>\n",
                            "      <th>0</th>\n",
                            "      <td>1000</td>\n",
                            "      <td>30</td>\n",
                            "      <td>45</td>\n",
                            "      <td>0</td>\n",
                            "      <td>0</td>\n",
                            "      <td>0</td>\n",
                            "      <td>1</td>\n",
                            "      <td>0</td>\n",
                            "    </tr>\n",
                            "    <tr>\n",
                            "      <th>1</th>\n",
                            "      <td>1000</td>\n",
                            "      <td>30</td>\n",
                            "      <td>33</td>\n",
                            "      <td>1</td>\n",
                            "      <td>0</td>\n",
                            "      <td>1</td>\n",
                            "      <td>0</td>\n",
                            "      <td>0</td>\n",
                            "    </tr>\n",
                            "    <tr>\n",
                            "      <th>2</th>\n",
                            "      <td>1000</td>\n",
                            "      <td>15</td>\n",
                            "      <td>27</td>\n",
                            "      <td>0</td>\n",
                            "      <td>0</td>\n",
                            "      <td>0</td>\n",
                            "      <td>0</td>\n",
                            "      <td>1</td>\n",
                            "    </tr>\n",
                            "    <tr>\n",
                            "      <th>3</th>\n",
                            "      <td>1000</td>\n",
                            "      <td>30</td>\n",
                            "      <td>28</td>\n",
                            "      <td>1</td>\n",
                            "      <td>1</td>\n",
                            "      <td>0</td>\n",
                            "      <td>0</td>\n",
                            "      <td>1</td>\n",
                            "    </tr>\n",
                            "    <tr>\n",
                            "      <th>4</th>\n",
                            "      <td>1000</td>\n",
                            "      <td>30</td>\n",
                            "      <td>29</td>\n",
                            "      <td>0</td>\n",
                            "      <td>1</td>\n",
                            "      <td>0</td>\n",
                            "      <td>0</td>\n",
                            "      <td>1</td>\n",
                            "    </tr>\n",
                            "  </tbody>\n",
                            "</table>\n",
                            "</div>"
                        ],
                        "text/plain": [
                            "   Principal  terms  age  Gender  weekend  Bechalor  High School or Below  \\\n",
                            "0       1000     30   45       0        0         0                     1   \n",
                            "1       1000     30   33       1        0         1                     0   \n",
                            "2       1000     15   27       0        0         0                     0   \n",
                            "3       1000     30   28       1        1         0                     0   \n",
                            "4       1000     30   29       0        1         0                     0   \n",
                            "\n",
                            "   college  \n",
                            "0        0  \n",
                            "1        0  \n",
                            "2        1  \n",
                            "3        1  \n",
                            "4        1  "
                        ]
                    },
                    "execution_count": 17,
                    "metadata": {},
                    "output_type": "execute_result"
                }
            ],
            "source": [
                "X = Feature\n",
                "X[0:5]"
            ]
        },
        {
            "cell_type": "markdown",
            "metadata": {
                "button": false,
                "new_sheet": false,
                "run_control": {
                    "read_only": false
                }
            },
            "source": [
                "What are our lables?"
            ]
        },
        {
            "cell_type": "code",
            "execution_count": 18,
            "metadata": {
                "button": false,
                "new_sheet": false,
                "run_control": {
                    "read_only": false
                }
            },
            "outputs": [
                {
                    "data": {
                        "text/plain": [
                            "array(['PAIDOFF', 'PAIDOFF', 'PAIDOFF', 'PAIDOFF', 'PAIDOFF'], dtype=object)"
                        ]
                    },
                    "execution_count": 18,
                    "metadata": {},
                    "output_type": "execute_result"
                }
            ],
            "source": [
                "y = df['loan_status'].values\n",
                "y[0:5]"
            ]
        },
        {
            "cell_type": "markdown",
            "metadata": {
                "button": false,
                "new_sheet": false,
                "run_control": {
                    "read_only": false
                }
            },
            "source": [
                "## Normalize Data "
            ]
        },
        {
            "cell_type": "markdown",
            "metadata": {
                "button": false,
                "new_sheet": false,
                "run_control": {
                    "read_only": false
                }
            },
            "source": [
                "Data Standardization give data zero mean and unit variance (technically should be done after train test split )"
            ]
        },
        {
            "cell_type": "code",
            "execution_count": 19,
            "metadata": {
                "button": false,
                "new_sheet": false,
                "run_control": {
                    "read_only": false
                }
            },
            "outputs": [
                {
                    "data": {
                        "text/plain": [
                            "array([[ 0.51578458,  0.92071769,  2.33152555, -0.42056004, -1.20577805,\n",
                            "        -0.38170062,  1.13639374, -0.86968108],\n",
                            "       [ 0.51578458,  0.92071769,  0.34170148,  2.37778177, -1.20577805,\n",
                            "         2.61985426, -0.87997669, -0.86968108],\n",
                            "       [ 0.51578458, -0.95911111, -0.65321055, -0.42056004, -1.20577805,\n",
                            "        -0.38170062, -0.87997669,  1.14984679],\n",
                            "       [ 0.51578458,  0.92071769, -0.48739188,  2.37778177,  0.82934003,\n",
                            "        -0.38170062, -0.87997669,  1.14984679],\n",
                            "       [ 0.51578458,  0.92071769, -0.3215732 , -0.42056004,  0.82934003,\n",
                            "        -0.38170062, -0.87997669,  1.14984679]])"
                        ]
                    },
                    "execution_count": 19,
                    "metadata": {},
                    "output_type": "execute_result"
                }
            ],
            "source": [
                "X= preprocessing.StandardScaler().fit(X).transform(X)\n",
                "X[0:5]"
            ]
        },
        {
            "cell_type": "markdown",
            "metadata": {
                "button": false,
                "new_sheet": false,
                "run_control": {
                    "read_only": false
                }
            },
            "source": [
                "# Classification "
            ]
        },
        {
            "cell_type": "markdown",
            "metadata": {},
            "source": [
                "## Train Test split"
            ]
        },
        {
            "cell_type": "code",
            "execution_count": null,
            "metadata": {},
            "outputs": [],
            "source": [
                "from sklearn.model_selection import train_test_split\n",
                "x_train, x_test, y_train, y_test = train_test_split( X, y, test_size=0.2, random_state=4)\n",
                "print ('Train set:', x_train.shape,  y_train.shape)\n",
                "print ('Test set:', x_test.shape,  y_test.shape)"
            ]
        },
        {
            "cell_type": "markdown",
            "metadata": {},
            "source": [
                "# K Nearest Neighbor(KNN)\n",
                "Notice: You should find the best k to build the model with the best accuracy.  \n",
                "**warning:** You should not use the __loan_test.csv__ for finding the best k, however, you can split your train_loan.csv into train and test to find the best __k__."
            ]
        },
        {
            "cell_type": "code",
            "execution_count": 21,
            "metadata": {},
            "outputs": [
                {
                    "data": {
                        "text/plain": [
                            "array([ 0.68571429,  0.71428571,  0.75714286,  0.78571429,  0.77142857,\n",
                            "        0.75714286,  0.74285714,  0.75714286,  0.74285714,  0.74285714,\n",
                            "        0.74285714])"
                        ]
                    },
                    "execution_count": 21,
                    "metadata": {},
                    "output_type": "execute_result"
                }
            ],
            "source": [
                "#Training\n",
                "from sklearn.neighbors import KNeighborsClassifier\n",
                "from sklearn import metrics\n",
                "\n",
                "Ks = 12\n",
                "mean_acc = np.zeros((Ks-1))\n",
                "std_acc = np.zeros((Ks-1))\n",
                "ConfustionMtx=[];\n",
                "for n in range(1,Ks):\n",
                "    neigh = KNeighborsClassifier(n_neighbors=n).fit(X_train, y_train)\n",
                "    yhat = neigh.predict(X_test)\n",
                "    mean_acc[n-1] = metrics.accuracy_score(y_test, yhat)\n",
                "    std_acc[n-1] = np.std(yhat==y_test)/np.sqrt(yhat.shape[0])\n",
                "mean_acc"
            ]
        },
        {
            "cell_type": "code",
            "execution_count": 57,
            "metadata": {},
            "outputs": [
                {
                    "data": {
                        "image/png": "[encoded data removed]",
                        "text/plain": [
                            "<matplotlib.figure.Figure at 0x7f90aa8d31d0>"
                        ]
                    },
                    "metadata": {},
                    "output_type": "display_data"
                },
                {
                    "name": "stdout",
                    "output_type": "stream",
                    "text": [
                        "The best accuracy was with 0.785714285714 with k= 4\n"
                    ]
                }
            ],
            "source": [
                "plt.plot(range(1,Ks),mean_acc)\n",
                "plt.fill_between(range(1,Ks),mean_acc - 1 * std_acc,mean_acc + 1 * std_acc, alpha=0.10)\n",
                "plt.legend(('Accuracy ', '+/- 3xstd'))\n",
                "plt.ylabel('Accuracy ')\n",
                "plt.xlabel('Number of Neighbors (K)')\n",
                "plt.tight_layout()\n",
                "plt.show()\n",
                "\n",
                "print( \"The best accuracy was with\", mean_acc.max(), \"with k=\", mean_acc.argmax()+1) \n",
                "\n",
                "neigh = KNeighborsClassifier(n_neighbors=mean_acc.argmax()+1).fit(X_train, y_train)"
            ]
        },
        {
            "cell_type": "markdown",
            "metadata": {},
            "source": [
                "# Decision Tree"
            ]
        },
        {
            "cell_type": "code",
            "execution_count": 58,
            "metadata": {},
            "outputs": [
                {
                    "name": "stdout",
                    "output_type": "stream",
                    "text": [
                        "['PAIDOFF' 'PAIDOFF' 'PAIDOFF' 'PAIDOFF' 'PAIDOFF']\n",
                        "['PAIDOFF' 'COLLECTION' 'COLLECTION' 'PAIDOFF' 'COLLECTION']\n"
                    ]
                }
            ],
            "source": [
                "from sklearn.tree import DecisionTreeClassifier\n",
                "from sklearn.externals.six import StringIO\n",
                "import matplotlib.image as mpimg\n",
                "from sklearn import tree\n",
                "\n",
                "#Modelling\n",
                "modeltree = DecisionTreeClassifier(criterion=\"entropy\")\n",
                "modeltree.fit(X_train, y_train)\n",
                "\n",
                "#Prediction\n",
                "predTree = modeltree.predict(X_test)\n",
                "print(predTree[0:5])\n",
                "print(y_test[0:5])\n",
                "\n",
                "names = Feature.columns"
            ]
        },
        {
            "cell_type": "code",
            "execution_count": null,
            "metadata": {},
            "outputs": [],
            "source": [
                "\n",
                "import graphviz \n",
                "import pydotplus\n",
                "\n",
                "dot_data = StringIO()\n",
                "filename = \"tree.png\"\n",
                "featureNames = Feature.columns\n",
                "out=tree.export_graphviz(modeltree,feature_names=featureNames, out_file=dot_data, class_names= np.unique(y_train), filled=True,  special_characters=True,rotate=False)  \n",
                "graph = pydotplus.graph_from_dot_data(dot_data.getvalue())  \n",
                "graph = pydotplus.graph_from_dot_data(dot_data.getvalue())  \n",
                "graph.write_png(filename)\n",
                "img = mpimg.imread(filename)\n",
                "plt.figure(figsize=(100, 200))\n",
                "plt.imshow(img,interpolation='nearest')"
            ]
        },
        {
            "cell_type": "markdown",
            "metadata": {},
            "source": [
                "# Support Vector Machine"
            ]
        },
        {
            "cell_type": "code",
            "execution_count": 25,
            "metadata": {},
            "outputs": [
                {
                    "data": {
                        "text/plain": [
                            "SVC(C=1.0, cache_size=200, class_weight=None, coef0=0.0,\n",
                            "  decision_function_shape='ovr', degree=3, gamma='auto', kernel='sigmoid',\n",
                            "  max_iter=-1, probability=False, random_state=None, shrinking=True,\n",
                            "  tol=0.001, verbose=False)"
                        ]
                    },
                    "execution_count": 25,
                    "metadata": {},
                    "output_type": "execute_result"
                }
            ],
            "source": [
                "import pylab as pl\n",
                "import scipy.optimize as opt\n",
                "from sklearn import preprocessing\n",
                "from sklearn import svm\n",
                "\n",
                "#Modelling\n",
                "clf = svm.SVC(kernel=\"sigmoid\")\n",
                "clf.fit(X_train, y_train)"
            ]
        },
        {
            "cell_type": "code",
            "execution_count": 26,
            "metadata": {},
            "outputs": [],
            "source": [
                "#Predict\n",
                "yhat = clf.predict(X_test)"
            ]
        },
        {
            "cell_type": "code",
            "execution_count": 27,
            "metadata": {},
            "outputs": [
                {
                    "data": {
                        "text/plain": [
                            "0.65761124121779857"
                        ]
                    },
                    "execution_count": 27,
                    "metadata": {},
                    "output_type": "execute_result"
                }
            ],
            "source": [
                "#Evaluation\n",
                "from sklearn.metrics import f1_score\n",
                "f1_score(y_test,yhat, average=\"weighted\")"
            ]
        },
        {
            "cell_type": "markdown",
            "metadata": {},
            "source": [
                "# Logistic Regression"
            ]
        },
        {
            "cell_type": "code",
            "execution_count": 28,
            "metadata": {},
            "outputs": [],
            "source": [
                "#Modelling\n",
                "from sklearn.linear_model import LogisticRegression\n",
                "LR = LogisticRegression(C=0.01, solver=\"liblinear\").fit(X_train,y_train)"
            ]
        },
        {
            "cell_type": "code",
            "execution_count": 29,
            "metadata": {},
            "outputs": [
                {
                    "data": {
                        "text/plain": [
                            "0.74285714285714288"
                        ]
                    },
                    "execution_count": 29,
                    "metadata": {},
                    "output_type": "execute_result"
                }
            ],
            "source": [
                "#Predict\n",
                "yhat = LR.predict(X_test)\n",
                "yhat_prob = LR.predict_proba(X_test)\n",
                "\n",
                "#Evaluation\n",
                "from sklearn.metrics import jaccard_similarity_score\n",
                "jaccard_similarity_score(y_test,yhat)"
            ]
        },
        {
            "cell_type": "markdown",
            "metadata": {},
            "source": [
                "# Model Evaluation using Test set"
            ]
        },
        {
            "cell_type": "code",
            "execution_count": 30,
            "metadata": {},
            "outputs": [],
            "source": [
                "from sklearn.metrics import jaccard_similarity_score\n",
                "from sklearn.metrics import f1_score\n",
                "from sklearn.metrics import log_loss"
            ]
        },
        {
            "cell_type": "markdown",
            "metadata": {},
            "source": [
                "First, download and load the test set:"
            ]
        },
        {
            "cell_type": "markdown",
            "metadata": {
                "button": false,
                "new_sheet": false,
                "run_control": {
                    "read_only": false
                }
            },
            "source": [
                "### Load Test set for evaluation "
            ]
        },
        {
            "cell_type": "code",
            "execution_count": 38,
            "metadata": {
                "button": false,
                "new_sheet": false,
                "run_control": {
                    "read_only": false
                }
            },
            "outputs": [
                {
                    "data": {
                        "text/html": [
                            "<div>\n",
                            "<style scoped>\n",
                            "    .dataframe tbody tr th:only-of-type {\n",
                            "        vertical-align: middle;\n",
                            "    }\n",
                            "\n",
                            "    .dataframe tbody tr th {\n",
                            "        vertical-align: top;\n",
                            "    }\n",
                            "\n",
                            "    .dataframe thead th {\n",
                            "        text-align: right;\n",
                            "    }\n",
                            "</style>\n",
                            "<table border=\"1\" class=\"dataframe\">\n",
                            "  <thead>\n",
                            "    <tr style=\"text-align: right;\">\n",
                            "      <th></th>\n",
                            "      <th>Unnamed: 0</th>\n",
                            "      <th>Unnamed: 0.1</th>\n",
                            "      <th>loan_status</th>\n",
                            "      <th>Principal</th>\n",
                            "      <th>terms</th>\n",
                            "      <th>effective_date</th>\n",
                            "      <th>due_date</th>\n",
                            "      <th>age</th>\n",
                            "      <th>education</th>\n",
                            "      <th>Gender</th>\n",
                            "    </tr>\n",
                            "  </thead>\n",
                            "  <tbody>\n",
                            "    <tr>\n",
                            "      <th>0</th>\n",
                            "      <td>1</td>\n",
                            "      <td>1</td>\n",
                            "      <td>PAIDOFF</td>\n",
                            "      <td>1000</td>\n",
                            "      <td>30</td>\n",
                            "      <td>9/8/2016</td>\n",
                            "      <td>10/7/2016</td>\n",
                            "      <td>50</td>\n",
                            "      <td>Bechalor</td>\n",
                            "      <td>female</td>\n",
                            "    </tr>\n",
                            "    <tr>\n",
                            "      <th>1</th>\n",
                            "      <td>5</td>\n",
                            "      <td>5</td>\n",
                            "      <td>PAIDOFF</td>\n",
                            "      <td>300</td>\n",
                            "      <td>7</td>\n",
                            "      <td>9/9/2016</td>\n",
                            "      <td>9/15/2016</td>\n",
                            "      <td>35</td>\n",
                            "      <td>Master or Above</td>\n",
                            "      <td>male</td>\n",
                            "    </tr>\n",
                            "    <tr>\n",
                            "      <th>2</th>\n",
                            "      <td>21</td>\n",
                            "      <td>21</td>\n",
                            "      <td>PAIDOFF</td>\n",
                            "      <td>1000</td>\n",
                            "      <td>30</td>\n",
                            "      <td>9/10/2016</td>\n",
                            "      <td>10/9/2016</td>\n",
                            "      <td>43</td>\n",
                            "      <td>High School or Below</td>\n",
                            "      <td>female</td>\n",
                            "    </tr>\n",
                            "    <tr>\n",
                            "      <th>3</th>\n",
                            "      <td>24</td>\n",
                            "      <td>24</td>\n",
                            "      <td>PAIDOFF</td>\n",
                            "      <td>1000</td>\n",
                            "      <td>30</td>\n",
                            "      <td>9/10/2016</td>\n",
                            "      <td>10/9/2016</td>\n",
                            "      <td>26</td>\n",
                            "      <td>college</td>\n",
                            "      <td>male</td>\n",
                            "    </tr>\n",
                            "    <tr>\n",
                            "      <th>4</th>\n",
                            "      <td>35</td>\n",
                            "      <td>35</td>\n",
                            "      <td>PAIDOFF</td>\n",
                            "      <td>800</td>\n",
                            "      <td>15</td>\n",
                            "      <td>9/11/2016</td>\n",
                            "      <td>9/25/2016</td>\n",
                            "      <td>29</td>\n",
                            "      <td>Bechalor</td>\n",
                            "      <td>male</td>\n",
                            "    </tr>\n",
                            "  </tbody>\n",
                            "</table>\n",
                            "</div>"
                        ],
                        "text/plain": [
                            "   Unnamed: 0  Unnamed: 0.1 loan_status  Principal  terms effective_date  \\\n",
                            "0           1             1     PAIDOFF       1000     30       9/8/2016   \n",
                            "1           5             5     PAIDOFF        300      7       9/9/2016   \n",
                            "2          21            21     PAIDOFF       1000     30      9/10/2016   \n",
                            "3          24            24     PAIDOFF       1000     30      9/10/2016   \n",
                            "4          35            35     PAIDOFF        800     15      9/11/2016   \n",
                            "\n",
                            "    due_date  age             education  Gender  \n",
                            "0  10/7/2016   50              Bechalor  female  \n",
                            "1  9/15/2016   35       Master or Above    male  \n",
                            "2  10/9/2016   43  High School or Below  female  \n",
                            "3  10/9/2016   26               college    male  \n",
                            "4  9/25/2016   29              Bechalor    male  "
                        ]
                    },
                    "execution_count": 38,
                    "metadata": {},
                    "output_type": "execute_result"
                }
            ],
            "source": [
                "test_df = pd.read_csv('loan_test.csv')\n",
                "test_df.head()"
            ]
        },
        {
            "cell_type": "code",
            "execution_count": 50,
            "metadata": {},
            "outputs": [
                {
                    "data": {
                        "text/plain": [
                            "array(['PAIDOFF', 'PAIDOFF', 'PAIDOFF', 'PAIDOFF', 'PAIDOFF'], dtype=object)"
                        ]
                    },
                    "execution_count": 50,
                    "metadata": {},
                    "output_type": "execute_result"
                }
            ],
            "source": [
                "# convert date time\n",
                "test_df['due_date'] = pd.to_datetime(test_df['due_date'])\n",
                "test_df['effective_date'] = pd.to_datetime(test_df['effective_date'])\n",
                "test_df['dayofweek'] = test_df['effective_date'].dt.dayofweek\n",
                "# evaulate weekend field\n",
                "test_df['weekend'] = test_df['dayofweek'].apply(lambda x: 1 if (x>3)  else 0)\n",
                "# work out education level\n",
                "test_feature = test_df[['Principal','terms','age','Gender','weekend']]\n",
                "test_feature = pd.concat([test_feature,pd.get_dummies(test_df['education'])], axis=1)\n",
                "test_feature.drop(['Master or Above'], axis = 1,inplace=True)\n",
                "test_feature.head()\n",
                "# normalize the test data\n",
                "test_X = preprocessing.StandardScaler().fit(test_feature).transform(test_feature)\n",
                "test_X[0:5]\n",
                "# and target result\n",
                "test_y = test_df['loan_status'].values\n",
                "test_y[0:5]"
            ]
        },
        {
            "cell_type": "code",
            "execution_count": 52,
            "metadata": {},
            "outputs": [
                {
                    "data": {
                        "text/plain": [
                            "array(['PAIDOFF', 'PAIDOFF', 'PAIDOFF', 'PAIDOFF', 'PAIDOFF'], dtype=object)"
                        ]
                    },
                    "execution_count": 52,
                    "metadata": {},
                    "output_type": "execute_result"
                }
            ],
            "source": [
                "# normalize the test data\n",
                "TestX = preprocessing.StandardScaler().fit(test_feature).transform(test_feature)\n",
                "TestX[0:5]\n",
                "# and target result\n",
                "TestY = test_df['loan_status'].values\n",
                "TestY[0:5]"
            ]
        },
        {
            "cell_type": "code",
            "execution_count": 59,
            "metadata": {},
            "outputs": [
                {
                    "data": {
                        "text/html": [
                            "<div>\n",
                            "<style scoped>\n",
                            "    .dataframe tbody tr th:only-of-type {\n",
                            "        vertical-align: middle;\n",
                            "    }\n",
                            "\n",
                            "    .dataframe tbody tr th {\n",
                            "        vertical-align: top;\n",
                            "    }\n",
                            "\n",
                            "    .dataframe thead th {\n",
                            "        text-align: right;\n",
                            "    }\n",
                            "</style>\n",
                            "<table border=\"1\" class=\"dataframe\">\n",
                            "  <thead>\n",
                            "    <tr style=\"text-align: right;\">\n",
                            "      <th>Algorithm</th>\n",
                            "      <th>Jaccard</th>\n",
                            "      <th>F1-score</th>\n",
                            "      <th>LogLoss</th>\n",
                            "    </tr>\n",
                            "  </thead>\n",
                            "  <tbody>\n",
                            "    <tr>\n",
                            "      <th>KNN</th>\n",
                            "      <td>0.629630</td>\n",
                            "      <td>0.643031</td>\n",
                            "      <td>NA</td>\n",
                            "    </tr>\n",
                            "    <tr>\n",
                            "      <th>Decision Tree</th>\n",
                            "      <td>0.722222</td>\n",
                            "      <td>0.734007</td>\n",
                            "      <td>NA</td>\n",
                            "    </tr>\n",
                            "    <tr>\n",
                            "      <th>SVM</th>\n",
                            "      <td>0.648148</td>\n",
                            "      <td>0.582605</td>\n",
                            "      <td>NA</td>\n",
                            "    </tr>\n",
                            "    <tr>\n",
                            "      <th>Logistic Regression</th>\n",
                            "      <td>0.722222</td>\n",
                            "      <td>0.649142</td>\n",
                            "      <td>0.575006</td>\n",
                            "    </tr>\n",
                            "  </tbody>\n",
                            "</table>\n",
                            "</div>"
                        ],
                        "text/plain": [
                            "Algorithm             Jaccard  F1-score   LogLoss\n",
                            "KNN                  0.629630  0.643031        NA\n",
                            "Decision Tree        0.722222  0.734007        NA\n",
                            "SVM                  0.648148  0.582605        NA\n",
                            "Logistic Regression  0.722222  0.649142  0.575006"
                        ]
                    },
                    "execution_count": 59,
                    "metadata": {},
                    "output_type": "execute_result"
                }
            ],
            "source": [
                "knn_pred=neigh.predict(TestX)\n",
                "jc1=jaccard_similarity_score(TestY, knn_pred)\n",
                "fs1=f1_score(TestY, knn_pred, average='weighted')\n",
                "\n",
                "tree_pred=modeltree.predict(TestX)\n",
                "jc2=jaccard_similarity_score(TestY, tree_pred)\n",
                "fs2=f1_score(TestY, tree_pred, average='weighted')\n",
                "\n",
                "svm_pred=clf.predict(TestX)\n",
                "jc3=jaccard_similarity_score(TestY, svm_pred)\n",
                "fs3=f1_score(TestY, svm_pred, average='weighted')\n",
                "\n",
                "log_pred=LR.predict(TestX)\n",
                "proba=LR.predict_proba(TestX)\n",
                "jc4=jaccard_similarity_score(TestY, log_pred)\n",
                "fs4=f1_score(TestY, log_pred, average='weighted')  \n",
                "ll4=log_loss(TestY, proba)\n",
                "\n",
                "list_jc = [jc1, jc2, jc3, jc4]\n",
                "list_fs = [fs1, fs2, fs3, fs4]\n",
                "list_ll = ['NA', 'NA', 'NA', ll4]\n",
                "\n",
                "\n",
                "import pandas as pd\n",
                "\n",
                "# fomulate the report format\n",
                "df = pd.DataFrame(list_jc, index=['KNN','Decision Tree','SVM','Logistic Regression'])\n",
                "df.columns = ['Jaccard']\n",
                "df.insert(loc=1, column='F1-score', value=list_fs)\n",
                "df.insert(loc=2, column='LogLoss', value=list_ll)\n",
                "df.columns.name = 'Algorithm'\n",
                "df"
            ]
        },
        {
            "cell_type": "markdown",
            "metadata": {},
            "source": [
                "# Report\n",
                "You should be able to report the accuracy of the built model using different evaluation metrics:"
            ]
        },
        {
            "cell_type": "markdown",
            "metadata": {},
            "source": [
                "| Algorithm          | Jaccard | F1-score | LogLoss |\n",
                "|--------------------|---------|----------|---------|\n",
                "| KNN                | ?       | ?        | NA      |\n",
                "| Decision Tree      | ?       | ?        | NA      |\n",
                "| SVM                | ?       | ?        | NA      |\n",
                "| LogisticRegression | ?       | ?        | ?       |"
            ]
        },
        {
            "cell_type": "markdown",
            "metadata": {
                "button": false,
                "new_sheet": false,
                "run_control": {
                    "read_only": false
                }
            },
            "source": [
                "\n",
                "\n",
                "\n",
                "<h3>Thanks for completing this lesson!</h3>\n",
                "\n",
                "<h4>Author:  <a href=\"#\">Ameer Hamza</a></h4>\n"
            ]
        }
    ],
    "metadata": {
        "kernelspec": {
            "display_name": "Python 3.10.6 64-bit (windows store)",
            "language": "python",
            "name": "python3"
        },
        "language_info": {
            "codemirror_mode": {
                "name": "ipython",
                "version": 3
            },
            "file_extension": ".py",
            "mimetype": "text/x-python",
            "name": "python",
            "nbconvert_exporter": "python",
            "pygments_lexer": "ipython3",
            "version": "3.10.6"
        },
        "vscode": {
            "interpreter": {
                "hash": "113d55a6bc8b691d66dcc96e00a2acb0a031d679f6fc0af656677edfcdd8a1a7"
            }
        }
    },
    "nbformat": 4,
    "nbformat_minor": 2
}
